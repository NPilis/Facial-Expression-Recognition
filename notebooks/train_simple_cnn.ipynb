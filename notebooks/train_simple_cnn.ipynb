{
 "cells": [
  {
   "cell_type": "markdown",
   "metadata": {},
   "source": [
    "### Imports"
   ]
  },
  {
   "cell_type": "code",
   "execution_count": null,
   "metadata": {},
   "outputs": [],
   "source": [
    "import sys\n",
    "import os\n",
    "\n",
    "project_path = os.path.abspath(os.path.join('../'))\n",
    "if project_path not in sys.path:\n",
    "    sys.path.append(project_path)\n",
    "\n",
    "from utils.load_data import load_fer2013, parse_fer2013, \\\n",
    "                            load_CKPlus, fer_csv_to_png\n",
    "from utils.generators import init_resnet_generator, init_cnn_generator\n",
    "from utils.plots import plot_model_history\n",
    "from models.build import build_resnet_model, build_cnn_baseline_model\n",
    "\n",
    "from keras.callbacks import ModelCheckpoint, EarlyStopping\n",
    "from keras.optimizers import Adam\n",
    "from keras.models import load_model\n",
    "\n",
    "import numpy as np"
   ]
  },
  {
   "cell_type": "markdown",
   "metadata": {},
   "source": [
    "### Loading datasets"
   ]
  },
  {
   "cell_type": "code",
   "execution_count": null,
   "metadata": {},
   "outputs": [],
   "source": [
    "train_data, val_data, test_data = load_fer2013(file_path='../data/fer2013/fer2013.csv')\n",
    "X_train, Y_train = parse_fer2013(train_data)\n",
    "X_val, Y_val = parse_fer2013(val_data)\n",
    "X_test, Y_test = parse_fer2013(test_data)"
   ]
  },
  {
   "cell_type": "markdown",
   "metadata": {},
   "source": [
    "### Model training parameters"
   ]
  },
  {
   "cell_type": "code",
   "execution_count": null,
   "metadata": {},
   "outputs": [],
   "source": [
    "batch_size = 128\n",
    "num_epochs = 150\n",
    "patience = 20\n",
    "saved_models_path = '../models/saved_models/'\n",
    "dataset_name = 'fer2013'\n",
    "model_name = '_simple_CNN_1'\n",
    "history_name = '_hist' + model_name\n",
    "\n",
    "# ../models/saved_models/fer2013_simple_CNN_1\n",
    "model_path = saved_models_path + dataset_name + model_name\n",
    "\n",
    "# ../models/saved_models/fer2013_hist_simple_CNN_1\n",
    "history_path = saved_models_path + dataset_name + history_name"
   ]
  },
  {
   "cell_type": "markdown",
   "metadata": {},
   "source": [
    "### Data generators"
   ]
  },
  {
   "cell_type": "code",
   "execution_count": null,
   "metadata": {},
   "outputs": [],
   "source": [
    "train_gen = init_cnn_generator(with_aug=True)\n",
    "val_gen = init_cnn_generator(with_aug=False)"
   ]
  },
  {
   "cell_type": "markdown",
   "metadata": {},
   "source": [
    "### Callbacks"
   ]
  },
  {
   "cell_type": "code",
   "execution_count": null,
   "metadata": {},
   "outputs": [],
   "source": [
    "cpt_path = model_path + '.hdf5'\n",
    "early_stop = EarlyStopping('val_loss', patience=patience)\n",
    "model_checkpoint = ModelCheckpoint(cpt_path, save_best_only=True)\n",
    "callbacks = [model_checkpoint, early_stop]"
   ]
  },
  {
   "cell_type": "markdown",
   "metadata": {},
   "source": [
    "### Build and compile model"
   ]
  },
  {
   "cell_type": "code",
   "execution_count": null,
   "metadata": {
    "scrolled": true
   },
   "outputs": [],
   "source": [
    "model = build_cnn_baseline_model()\n",
    "opt = Adam(0.001)\n",
    "model.compile(optimizer=opt, loss='categorical_crossentropy', metrics=['accuracy'])\n",
    "model.summary()"
   ]
  },
  {
   "cell_type": "markdown",
   "metadata": {},
   "source": [
    "### Training"
   ]
  },
  {
   "cell_type": "code",
   "execution_count": null,
   "metadata": {},
   "outputs": [],
   "source": [
    "history = model.fit(train_gen.flow(X_train, Y_train),\n",
    "                    validation_data=val_gen.flow(X_val, Y_val),\n",
    "                    epochs=3,\n",
    "                    steps_per_epoch=len(X_train)//batch_size,\n",
    "                    validation_steps=len(X_val)//batch_size,\n",
    "                    callbacks=callbacks)\n",
    "\n",
    "# Saving final model and history\n",
    "val_acc = history.history['val_accuracy'][-1]\n",
    "cnt_epoch = len(history.history['val_accuracy'])\n",
    "np.save(f'{history_path}-e{cnt_epoch:02d}-a{val_acc:.2f}.npy', history.history)\n",
    "model.save(f'{model_path}-e{cnt_epoch:02d}-a{val_acc:.2f}.hdf5')"
   ]
  },
  {
   "cell_type": "markdown",
   "metadata": {},
   "source": [
    "### Loading (if needed)"
   ]
  },
  {
   "cell_type": "code",
   "execution_count": null,
   "metadata": {},
   "outputs": [],
   "source": [
    "# Uncomment to load\n",
    "# history = np.load(history_path + '-e03-a0.41.npy', allow_pickle=True)\n",
    "# history = history.item()\n",
    "# model = load_model(model_path + '-e88-a0.65.hdf5')"
   ]
  },
  {
   "cell_type": "markdown",
   "metadata": {},
   "source": [
    "### Evaluation"
   ]
  },
  {
   "cell_type": "code",
   "execution_count": null,
   "metadata": {},
   "outputs": [],
   "source": [
    "X_test = X_test / 255.0\n",
    "loss, acc = model.evaluate(X_test, Y_test)\n",
    "print(\"Model accuracy: {:5.2f}%\".format(100 * acc))"
   ]
  },
  {
   "cell_type": "markdown",
   "metadata": {},
   "source": [
    "### Ploting curves"
   ]
  },
  {
   "cell_type": "code",
   "execution_count": null,
   "metadata": {},
   "outputs": [],
   "source": [
    "plot_model_history(history)"
   ]
  }
 ],
 "metadata": {
  "kernelspec": {
   "display_name": "ML-ENV",
   "language": "python",
   "name": "ml-env"
  },
  "language_info": {
   "codemirror_mode": {
    "name": "ipython",
    "version": 3
   },
   "file_extension": ".py",
   "mimetype": "text/x-python",
   "name": "python",
   "nbconvert_exporter": "python",
   "pygments_lexer": "ipython3",
   "version": "3.8.8"
  }
 },
 "nbformat": 4,
 "nbformat_minor": 4
}
